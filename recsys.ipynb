{
 "cells": [
  {
   "cell_type": "code",
   "execution_count": 336,
   "metadata": {},
   "outputs": [
    {
     "name": "stdout",
     "output_type": "stream",
     "text": [
      "The autoreload extension is already loaded. To reload it, use:\n",
      "  %reload_ext autoreload\n"
     ]
    }
   ],
   "source": [
    "import pandas as pd\n",
    "import numpy as np\n",
    "import matplotlib.pyplot as plt\n",
    "import random\n",
    "from faker import Faker\n",
    "\n",
    "# custom\n",
    "import utils\n",
    "\n",
    "# imports re for text cleaning\n",
    "import re\n",
    "from datetime import datetime, timedelta, date\n",
    "\n",
    "# we will ignore pandas warning\n",
    "import warnings\n",
    "warnings.filterwarnings('ignore')\n",
    "\n",
    "%load_ext autoreload\n",
    "%autoreload 2"
   ]
  },
  {
   "attachments": {},
   "cell_type": "markdown",
   "metadata": {},
   "source": [
    "## Generating dataframes"
   ]
  },
  {
   "cell_type": "code",
   "execution_count": 337,
   "metadata": {},
   "outputs": [],
   "source": [
    "# all lightfm imports \n",
    "from lightfm.data import Dataset\n",
    "from lightfm import LightFM\n",
    "from lightfm import cross_validation\n",
    "from lightfm.evaluation import precision_at_k\n",
    "from lightfm.evaluation import auc_score\n",
    "\n",
    "from sklearn.model_selection import train_test_split"
   ]
  },
  {
   "cell_type": "code",
   "execution_count": 338,
   "metadata": {},
   "outputs": [
    {
     "data": {
      "text/html": [
       "<div>\n",
       "<style scoped>\n",
       "    .dataframe tbody tr th:only-of-type {\n",
       "        vertical-align: middle;\n",
       "    }\n",
       "\n",
       "    .dataframe tbody tr th {\n",
       "        vertical-align: top;\n",
       "    }\n",
       "\n",
       "    .dataframe thead th {\n",
       "        text-align: right;\n",
       "    }\n",
       "</style>\n",
       "<table border=\"1\" class=\"dataframe\">\n",
       "  <thead>\n",
       "    <tr style=\"text-align: right;\">\n",
       "      <th></th>\n",
       "      <th>id_trans</th>\n",
       "      <th>inn_kt</th>\n",
       "      <th>inn_dt</th>\n",
       "      <th>c_sum</th>\n",
       "      <th>date</th>\n",
       "      <th>nazn</th>\n",
       "      <th>kt_group_num</th>\n",
       "      <th>dt_group_num</th>\n",
       "      <th>kt_group_name</th>\n",
       "      <th>dt_group_name</th>\n",
       "    </tr>\n",
       "  </thead>\n",
       "  <tbody>\n",
       "    <tr>\n",
       "      <th>0</th>\n",
       "      <td>1</td>\n",
       "      <td>7410522978</td>\n",
       "      <td>5524004328</td>\n",
       "      <td>76218.20</td>\n",
       "      <td>2021-08-19</td>\n",
       "      <td>масло</td>\n",
       "      <td>10</td>\n",
       "      <td>9</td>\n",
       "      <td>American</td>\n",
       "      <td>attention</td>\n",
       "    </tr>\n",
       "    <tr>\n",
       "      <th>1</th>\n",
       "      <td>2</td>\n",
       "      <td>5020559351</td>\n",
       "      <td>2146746793</td>\n",
       "      <td>100915.16</td>\n",
       "      <td>2022-12-03</td>\n",
       "      <td>сок</td>\n",
       "      <td>5</td>\n",
       "      <td>5</td>\n",
       "      <td>night</td>\n",
       "      <td>night</td>\n",
       "    </tr>\n",
       "    <tr>\n",
       "      <th>2</th>\n",
       "      <td>3</td>\n",
       "      <td>8349320862</td>\n",
       "      <td>7337073023</td>\n",
       "      <td>21492.65</td>\n",
       "      <td>2022-08-07</td>\n",
       "      <td>чай</td>\n",
       "      <td>5</td>\n",
       "      <td>10</td>\n",
       "      <td>night</td>\n",
       "      <td>American</td>\n",
       "    </tr>\n",
       "    <tr>\n",
       "      <th>3</th>\n",
       "      <td>4</td>\n",
       "      <td>1632244652</td>\n",
       "      <td>7410522978</td>\n",
       "      <td>29088.24</td>\n",
       "      <td>2023-10-27</td>\n",
       "      <td>кофе</td>\n",
       "      <td>10</td>\n",
       "      <td>10</td>\n",
       "      <td>American</td>\n",
       "      <td>American</td>\n",
       "    </tr>\n",
       "    <tr>\n",
       "      <th>4</th>\n",
       "      <td>5</td>\n",
       "      <td>9308544856</td>\n",
       "      <td>8651614206</td>\n",
       "      <td>95320.85</td>\n",
       "      <td>2023-01-16</td>\n",
       "      <td>масло</td>\n",
       "      <td>2</td>\n",
       "      <td>4</td>\n",
       "      <td>detail</td>\n",
       "      <td>off</td>\n",
       "    </tr>\n",
       "  </tbody>\n",
       "</table>\n",
       "</div>"
      ],
      "text/plain": [
       "   id_trans      inn_kt      inn_dt      c_sum        date   nazn  \\\n",
       "0         1  7410522978  5524004328   76218.20  2021-08-19  масло   \n",
       "1         2  5020559351  2146746793  100915.16  2022-12-03    сок   \n",
       "2         3  8349320862  7337073023   21492.65  2022-08-07    чай   \n",
       "3         4  1632244652  7410522978   29088.24  2023-10-27   кофе   \n",
       "4         5  9308544856  8651614206   95320.85  2023-01-16  масло   \n",
       "\n",
       "   kt_group_num  dt_group_num kt_group_name dt_group_name  \n",
       "0            10             9      American     attention  \n",
       "1             5             5         night         night  \n",
       "2             5            10         night      American  \n",
       "3            10            10      American      American  \n",
       "4             2             4        detail           off  "
      ]
     },
     "execution_count": 338,
     "metadata": {},
     "output_type": "execute_result"
    }
   ],
   "source": [
    "df, inns, inn2group, group2name = utils.make_interactions_dataset(\n",
    "    num_transactions=20000,\n",
    "    num_inns=700,\n",
    "    num_groups=10\n",
    ")\n",
    "\n",
    "df_train, df_test = train_test_split(df, test_size=0.2)\n",
    "df.head()"
   ]
  },
  {
   "cell_type": "code",
   "execution_count": 339,
   "metadata": {},
   "outputs": [],
   "source": [
    "kt_feature_list = utils.generate_feature_list(df_train, [\"kt_group_num\", \"kt_group_name\"])\n",
    "dt_feature_list = utils.generate_feature_list(df_test, [\"dt_group_num\", \"dt_group_name\"])"
   ]
  },
  {
   "cell_type": "code",
   "execution_count": 340,
   "metadata": {},
   "outputs": [],
   "source": [
    "# creating dataset\n",
    "dataset = Dataset()\n",
    "dataset.fit(\n",
    "    users=set(inns),\n",
    "    items=set(inns),\n",
    "    user_features=kt_feature_list,\n",
    "    item_features=dt_feature_list\n",
    ")\n",
    "\n",
    "interactions, weights = dataset.build_interactions(\n",
    "    data = list(zip(df_train[\"inn_kt\"], df_train[\"inn_dt\"]))\n",
    ")\n",
    "\n",
    "# now we are building our questions and professionals features\n",
    "# in a way that lightfm understand.\n",
    "# we are using lightfm build in method for building\n",
    "# questions and professionals features \n",
    "kt_features = dataset.build_user_features(\n",
    "    utils.create_features(df_train, [\"kt_group_num\", \"kt_group_name\"], \"inn_kt\"),\n",
    "    normalize=True\n",
    ")\n",
    "\n",
    "dt_features = dataset.build_item_features(\n",
    "    utils.create_features(df_train, [\"dt_group_num\", \"dt_group_name\"], \"inn_dt\"),\n",
    "    normalize=True\n",
    ")"
   ]
  },
  {
   "attachments": {},
   "cell_type": "markdown",
   "metadata": {},
   "source": [
    "Columns in `dt_features` correspond to `dataset.mapping()` tuple of dictionaries for item features.\n",
    "\n",
    "**NOTE**: `dataset.mapping()` returns a tuple of 4 dictionaries:\n",
    "\n",
    "`_user_id_mapping`,\n",
    "\n",
    "`_user_feature_mapping`,\n",
    "\n",
    "`_item_id_mapping`,\n",
    "\n",
    "`_item_feature_mapping`\n",
    "\n",
    "**For example**, `_item_feature_mapping[\"Pharmacologist\"]` returns an index of `\"Pharmacologist\"` feature in `dt_features` matrix, so `dt_features[:, index]` shows the \"Pharmacologist\" feature value for all items."
   ]
  },
  {
   "attachments": {},
   "cell_type": "markdown",
   "metadata": {},
   "source": [
    "# Fitting the model"
   ]
  },
  {
   "cell_type": "code",
   "execution_count": 346,
   "metadata": {},
   "outputs": [
    {
     "name": "stdout",
     "output_type": "stream",
     "text": [
      "Epoch 0\n",
      "Epoch 1\n",
      "Epoch 2\n",
      "Epoch 3\n",
      "Epoch 4\n",
      "Epoch 5\n",
      "Epoch 6\n",
      "Epoch 7\n",
      "Epoch 8\n",
      "Epoch 9\n"
     ]
    },
    {
     "data": {
      "text/plain": [
       "<lightfm.lightfm.LightFM at 0x140187fd0>"
      ]
     },
     "execution_count": 346,
     "metadata": {},
     "output_type": "execute_result"
    }
   ],
   "source": [
    "model = LightFM(\n",
    "    no_components=150,\n",
    "    learning_rate=0.05,\n",
    "    loss='warp',\n",
    "    random_state=2024)\n",
    "\n",
    "model.fit(\n",
    "    interactions,\n",
    "    item_features=dt_features,\n",
    "    user_features=kt_features, sample_weight=weights,\n",
    "    epochs=10, num_threads=1, verbose=True)"
   ]
  },
  {
   "attachments": {},
   "cell_type": "markdown",
   "metadata": {},
   "source": [
    "# Making embedding mappings for dt and kt"
   ]
  },
  {
   "cell_type": "code",
   "execution_count": 347,
   "metadata": {},
   "outputs": [],
   "source": [
    "kt_biases, kt_embeds = model.get_user_representations(kt_features)\n",
    "dt_biases, dt_embeds = model.get_item_representations(dt_features)\n",
    "user_id_mapping, user_feature_mapping, item_id_mapping, item_feature_mapping = dataset.mapping()\n",
    "\n",
    "embeddings = {}\n",
    "for inn in inns:\n",
    "    # e.g.\n",
    "    # user_id_mapping[inn] - index of user in kt_embeds\n",
    "    embeddings[inn] = {\n",
    "        \"kt_embed\": kt_embeds[user_id_mapping[inn]],\n",
    "        \"dt_embed\": dt_embeds[item_id_mapping[inn]],\n",
    "        \"kt_bias\": kt_biases[user_id_mapping[inn]],\n",
    "        \"dt_bias\": dt_biases[item_id_mapping[inn]]\n",
    "    }"
   ]
  },
  {
   "cell_type": "markdown",
   "metadata": {},
   "source": [
    "# Obtaining predictions"
   ]
  },
  {
   "cell_type": "code",
   "execution_count": 350,
   "metadata": {},
   "outputs": [
    {
     "data": {
      "text/plain": [
       "np.float32(0.46168375)"
      ]
     },
     "execution_count": 350,
     "metadata": {},
     "output_type": "execute_result"
    }
   ],
   "source": [
    "utils.calculate_auc_score(model, interactions, kt_features, dt_features)"
   ]
  },
  {
   "cell_type": "code",
   "execution_count": 351,
   "metadata": {},
   "outputs": [
    {
     "data": {
      "text/plain": [
       "np.float32(0.069571435)"
      ]
     },
     "execution_count": 351,
     "metadata": {},
     "output_type": "execute_result"
    }
   ],
   "source": [
    "utils.calculate_precision_at_k(model, interactions, kt_features, dt_features)"
   ]
  }
 ],
 "metadata": {
  "kernelspec": {
   "display_name": ".venv",
   "language": "python",
   "name": "python3"
  },
  "language_info": {
   "codemirror_mode": {
    "name": "ipython",
    "version": 3
   },
   "file_extension": ".py",
   "mimetype": "text/x-python",
   "name": "python",
   "nbconvert_exporter": "python",
   "pygments_lexer": "ipython3",
   "version": "3.11.1"
  },
  "orig_nbformat": 4
 },
 "nbformat": 4,
 "nbformat_minor": 2
}
